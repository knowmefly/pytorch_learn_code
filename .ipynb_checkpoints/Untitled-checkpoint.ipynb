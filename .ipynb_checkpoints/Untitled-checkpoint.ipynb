{
 "cells": [
  {
   "cell_type": "code",
   "execution_count": 1,
   "metadata": {},
   "outputs": [],
   "source": [
    "import torch\n",
    "import torch.nn.functional as F"
   ]
  },
  {
   "cell_type": "code",
   "execution_count": 2,
   "metadata": {},
   "outputs": [],
   "source": [
    "input = torch.tensor([[1,2,4,5],[4,3,2,9]])"
   ]
  },
  {
   "cell_type": "code",
   "execution_count": 3,
   "metadata": {},
   "outputs": [],
   "source": [
    "embedding_matrix = torch.rand(10, 3)"
   ]
  },
  {
   "cell_type": "code",
   "execution_count": 4,
   "metadata": {},
   "outputs": [
    {
     "data": {
      "text/plain": [
       "tensor([[[0.1720, 0.0054, 0.4087],\n",
       "         [0.3934, 0.7577, 0.8411],\n",
       "         [0.4902, 0.0205, 0.2844],\n",
       "         [0.6309, 0.6554, 0.2477]],\n",
       "\n",
       "        [[0.4902, 0.0205, 0.2844],\n",
       "         [0.1475, 0.3788, 0.8794],\n",
       "         [0.3934, 0.7577, 0.8411],\n",
       "         [0.2519, 0.8827, 0.6429]]])"
      ]
     },
     "execution_count": 4,
     "metadata": {},
     "output_type": "execute_result"
    }
   ],
   "source": [
    "F.embedding(input, embedding_matrix)"
   ]
  },
  {
   "cell_type": "code",
   "execution_count": 5,
   "metadata": {},
   "outputs": [
    {
     "data": {
      "text/plain": [
       "tensor([[0.3835, 0.5558, 0.9742],\n",
       "        [0.1720, 0.0054, 0.4087],\n",
       "        [0.3934, 0.7577, 0.8411],\n",
       "        [0.1475, 0.3788, 0.8794],\n",
       "        [0.4902, 0.0205, 0.2844],\n",
       "        [0.6309, 0.6554, 0.2477],\n",
       "        [0.1211, 0.7301, 0.7358],\n",
       "        [0.7401, 0.3079, 0.7289],\n",
       "        [0.3076, 0.7266, 0.4808],\n",
       "        [0.2519, 0.8827, 0.6429]])"
      ]
     },
     "execution_count": 5,
     "metadata": {},
     "output_type": "execute_result"
    }
   ],
   "source": [
    "embedding_matrix"
   ]
  },
  {
   "cell_type": "code",
   "execution_count": null,
   "metadata": {},
   "outputs": [],
   "source": []
  }
 ],
 "metadata": {
  "kernelspec": {
   "display_name": "mefly_36",
   "language": "python",
   "name": "mefly_36"
  },
  "language_info": {
   "codemirror_mode": {
    "name": "ipython",
    "version": 3
   },
   "file_extension": ".py",
   "mimetype": "text/x-python",
   "name": "python",
   "nbconvert_exporter": "python",
   "pygments_lexer": "ipython3",
   "version": "3.6.2"
  }
 },
 "nbformat": 4,
 "nbformat_minor": 2
}
