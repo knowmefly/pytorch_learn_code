{
 "cells": [
  {
   "cell_type": "code",
   "execution_count": null,
   "metadata": {},
   "outputs": [],
   "source": [
    "import torch\n",
    "import torchaudio\n",
    "import matplotlib.pyplot as plt"
   ]
  },
  {
   "cell_type": "markdown",
   "metadata": {},
   "source": [
    "## 加载声音文件"
   ]
  },
  {
   "cell_type": "code",
   "execution_count": null,
   "metadata": {},
   "outputs": [],
   "source": [
    "filename = \"./audio_file/二通01.wav\"\n",
    "waveform, sample_rate = torchaudio.load(filename)\n",
    "\n",
    "print(\"Shape of waveform: {}\".format(waveform.size()))\n",
    "print(\"Sample rate of waveformL {}\".format(sample_rate))\n",
    "\n",
    "plt.figure()\n",
    "plt.plot(waveform.t().numpy())"
   ]
  },
  {
   "cell_type": "markdown",
   "metadata": {},
   "source": [
    "## 转变数据\n",
    "\n",
    "torchaudio支持不断增长的转换列表。\n",
    "- 重采样：将波形重采样为其他采样率。\n",
    "- 频谱图：从波形创建频谱图。\n",
    "- GriffinLim ：使用 Griffin-Lim 转换从线性比例幅度谱图计算波形。\n",
    "- ComputeDeltas ：计算张量(通常是声谱图）的增量系数。\n",
    "- ComplexNorm ：计算复数张量的范数。\n",
    "- MelScale ：使用转换矩阵将正常 STFT 转换为 Mel 频率 STFT。\n",
    "- AmplitudeToDB ：这将频谱图从功率/振幅标度变为分贝标度。\n",
    "- MFCC ：根据波形创建梅尔频率倒谱系数。\n",
    "- MelSpectrogram ：使用 PyTorch 中的 STFT 功能从波形创建 MEL 频谱图。\n",
    "- MuLawEncoding ：基于 mu-law 压扩对波形进行编码。\n",
    "- MuLawDecoding ：解码 mu-law 编码波形。\n",
    "- TimeStretch ：在不更改给定速率的音高的情况下，及时拉伸频谱图。\n",
    "- FrequencyMasking ：在频域中对频谱图应用屏蔽。\n",
    "- TimeMasking ：在时域中对频谱图应用屏蔽。"
   ]
  },
  {
   "cell_type": "code",
   "execution_count": null,
   "metadata": {},
   "outputs": [],
   "source": [
    "specgram = torchaudio.transforms.Spectrogram()(waveform)\n",
    "\n",
    "print(\"Shape of spectrogram:{}\".format(specgram.size()))\n",
    "\n",
    "plt.figure()\n",
    "plt.imshow(specgram.log2()[0,:,:].numpy(), cmap='gray')"
   ]
  },
  {
   "cell_type": "code",
   "execution_count": null,
   "metadata": {},
   "outputs": [],
   "source": [
    "specgram = torchaudio.transforms.MelSpectrogram()(waveform)\n",
    "\n",
    "print(\"Shape of spectrogram: {}\".format(specgram.size()))\n",
    "\n",
    "plt.figure()\n",
    "p = plt.imshow(specgram.log2()[0,:,:].detach().numpy(), cmap='gray')"
   ]
  },
  {
   "cell_type": "code",
   "execution_count": null,
   "metadata": {},
   "outputs": [],
   "source": [
    "new_sample_rate = sample_rate/10\n",
    "\n",
    "channel = 0\n",
    "transformed = torchaudio.transforms.Resample(sample_rate, new_sample_rate)(waveform[channel].view(1,-1))\n",
    "\n",
    "print(\"Shape of transformed waveform:{}\".format(transformed.size()))\n",
    "\n",
    "plt.figure()\n",
    "plt.plot(transformed[0,:].numpy())"
   ]
  },
  {
   "cell_type": "code",
   "execution_count": null,
   "metadata": {},
   "outputs": [],
   "source": [
    "# Let's check if the tensor is in the interval [-1,1]\n",
    "print(\"Min of waveform: {}\\nMax of waveform: {}\\nMean of waveform: {}\".format(waveform.min(), waveform.max(), waveform.mean()))"
   ]
  },
  {
   "cell_type": "code",
   "execution_count": null,
   "metadata": {},
   "outputs": [],
   "source": [
    "def normalize(tensor):\n",
    "    tensor_minusmean = tensor - tensor.mean()\n",
    "    return tensor_minusmean/tensor_minusmean.abs().max()\n",
    "\n",
    "# waveform = normalize(waveform)"
   ]
  },
  {
   "cell_type": "code",
   "execution_count": null,
   "metadata": {},
   "outputs": [],
   "source": [
    "transformed = torchaudio.transforms.MuLawEncoding()(waveform)\n",
    "\n",
    "print(\"Shape of transformed waveform:{}\".format(transformed.size()))\n",
    "\n",
    "plt.figure()\n",
    "plt.plot(transformed[0,:].numpy())"
   ]
  },
  {
   "cell_type": "code",
   "execution_count": null,
   "metadata": {},
   "outputs": [],
   "source": [
    "reconstructed = torchaudio.transforms.MuLawDecoding()(transformed)\n",
    "\n",
    "print(\"Shape of recovered waveform:{}\".format(reconstructed.size()))\n",
    "\n",
    "plt.figure()\n",
    "plt.plot(reconstructed[0,:].numpy())"
   ]
  },
  {
   "cell_type": "code",
   "execution_count": null,
   "metadata": {},
   "outputs": [],
   "source": [
    "# Compute median relative difference\n",
    "err = ((waveform-reconstructed).abs() / waveform.abs()).median()\n",
    "\n",
    "print(\"Median relative difference between original and MuLaw reconstucted signals: {:.2%}\".format(err))"
   ]
  },
  {
   "cell_type": "code",
   "execution_count": null,
   "metadata": {},
   "outputs": [],
   "source": []
  }
 ],
 "metadata": {
  "kernelspec": {
   "display_name": "mefly_36",
   "language": "python",
   "name": "mefly_36"
  },
  "language_info": {
   "codemirror_mode": {
    "name": "ipython",
    "version": 3
   },
   "file_extension": ".py",
   "mimetype": "text/x-python",
   "name": "python",
   "nbconvert_exporter": "python",
   "pygments_lexer": "ipython3",
   "version": "3.6.2"
  }
 },
 "nbformat": 4,
 "nbformat_minor": 2
}
